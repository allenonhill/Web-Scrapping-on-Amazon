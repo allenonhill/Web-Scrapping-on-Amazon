{
 "cells": [
  {
   "cell_type": "code",
   "execution_count": 1,
   "metadata": {
    "id": "qn3s3wl-FYyX",
    "outputId": "d6fe3231-734c-443f-fe86-07b0cab6750a"
   },
   "outputs": [
    {
     "name": "stderr",
     "output_type": "stream",
     "text": [
      "\n",
      "\n",
      "====== WebDriver manager ======\n",
      "Current google-chrome version is 99.0.4844\n",
      "Get LATEST driver version for 99.0.4844\n",
      "Driver [C:\\Users\\april\\.wdm\\drivers\\chromedriver\\win32\\99.0.4844.51\\chromedriver.exe] found in cache\n"
     ]
    }
   ],
   "source": [
    "from selenium import webdriver\n",
    "from selenium.webdriver.common.keys import Keys\n",
    "import time\n",
    "from bs4 import BeautifulSoup\n",
    "from webdriver_manager.chrome import ChromeDriverManager\n",
    "import csv\n",
    "import pandas as pd\n",
    "driver = webdriver.Chrome(ChromeDriverManager().install())"
   ]
  },
  {
   "cell_type": "code",
   "execution_count": 2,
   "metadata": {
    "id": "r4lKNu58FYyf"
   },
   "outputs": [],
   "source": [
    "def get_url(search_term):\n",
    "    \"Generate a url from a search term\"\n",
    "    \n",
    "    template = \"https://www.amazon.com/s?k={}\"\n",
    "    search_term = search_term.replace(' ','+')\n",
    "\n",
    "    url = template.format(search_term)\n",
    "\n",
    "    # add term query to url\n",
    "    url += \"&page={}&ref=sr_pg_{}\"\n",
    "\n",
    "    return url"
   ]
  },
  {
   "cell_type": "code",
   "execution_count": 3,
   "metadata": {
    "id": "7sYCn0rXFYyh"
   },
   "outputs": [],
   "source": [
    "def saveString(html,page):\n",
    "    try:\n",
    "        filename = \"amazon_result_\" + str(page) + \".html\"\n",
    "        file = open(filename,\"w\", encoding = 'utf-8')\n",
    "        file.write(str(html))\n",
    "        file.close()\n",
    "    except Exception as ex:\n",
    "        print('Error: ' + str(ex))"
   ]
  },
  {
   "cell_type": "code",
   "execution_count": 4,
   "metadata": {
    "id": "pdRPtxqJFYyi"
   },
   "outputs": [],
   "source": [
    "def loadString(f):\n",
    "    try:\n",
    "        html = open(f, \"r\", encoding='utf-8').read()\n",
    "        return(html)\n",
    "    except Exception as ex:\n",
    "        print('Error: ' + str(ex))"
   ]
  },
  {
   "cell_type": "code",
   "execution_count": 5,
   "metadata": {
    "id": "VYYY2n8YFYyj"
   },
   "outputs": [],
   "source": [
    "def extract_record(item):\n",
    "\n",
    "    # Description and URL\n",
    "    atag = item.h2.a\n",
    "    description = atag.text.strip()\n",
    "    url = \"https://www.amazon.com\" + atag.get('href')\n",
    "\n",
    "    # Current Price\n",
    "    try:\n",
    "        price_parent = item.find('span', 'a-price')\n",
    "        price = price_parent.find('span', 'a-offscreen').text\n",
    "    except AttributeError:\n",
    "        return\n",
    "\n",
    "    # Rank and rating\n",
    "    try:\n",
    "        rating = item.i.text\n",
    "        review_count = item.find('span',{'class':'a-size-base'}).text\n",
    "    except AttributeError:\n",
    "        rating = ''\n",
    "        review_count = ''\n",
    "    \n",
    "    ## All these below fields should be NONE in the entry if doesn't exist\n",
    "    \n",
    "    # Original Price \n",
    "    try:\n",
    "        price_orig = item.find('span',{'class':'a-price a-text-price'}).text\n",
    "    except AttributeError:\n",
    "        price_orig = \"\"\n",
    "\n",
    "\n",
    "    # Coupons/Discount \n",
    "    try:\n",
    "        coupon = item.find('span',{'class':'s-coupon-unclipped'}).text\n",
    "    except AttributeError:\n",
    "        coupon = \"\"\n",
    "\n",
    "\n",
    "    # Free Delivery/Free One Day \n",
    "    try:\n",
    "        delivery = item.find('div',{'class':'a-row a-size-base a-color-secondary s-align-children-center'}).text\n",
    "    except AttributeError:\n",
    "        delivery = \"\"\n",
    "\n",
    "    # Prime or Not\n",
    "    if item.find('i',{'aria-label':\"Amazon Prime\"}):\n",
    "        prime = 1\n",
    "    else:\n",
    "        prime = 0\n",
    "    \n",
    "    # Result Combination\n",
    "    result = (description, price, price_orig, coupon, delivery, rating, review_count, prime, url)\n",
    "    return result\n"
   ]
  },
  {
   "cell_type": "code",
   "execution_count": 6,
   "metadata": {
    "id": "psauAgLqGX9A"
   },
   "outputs": [
    {
     "name": "stdout",
     "output_type": "stream",
     "text": [
      "Connected successfully\n"
     ]
    }
   ],
   "source": [
    "# from pymongo import MongoClient\n",
    "import pymongo\n",
    "import bson\n",
    "\n",
    "# connect to the mongoclient\n",
    "try:\n",
    "    client = pymongo.MongoClient('mongodb://localhost:27017')\n",
    "    print(\"Connected successfully\")\n",
    "except:\n",
    "    print(\"Could not connect to MongoDB\")\n",
    "\n",
    "db = client['sample']\n",
    "collection = db.amazon_office_chairs"
   ]
  },
  {
   "cell_type": "code",
   "execution_count": 9,
   "metadata": {
    "id": "4VwraJY3FYyk",
    "outputId": "e936a2c5-d181-45bf-ae5c-79cf9a90b050"
   },
   "outputs": [
    {
     "name": "stderr",
     "output_type": "stream",
     "text": [
      "\n",
      "\n",
      "====== WebDriver manager ======\n",
      "Current google-chrome version is 99.0.4844\n",
      "Get LATEST driver version for 99.0.4844\n",
      "Driver [C:\\Users\\april\\.wdm\\drivers\\chromedriver\\win32\\99.0.4844.51\\chromedriver.exe] found in cache\n"
     ]
    },
    {
     "name": "stdout",
     "output_type": "stream",
     "text": [
      "time_cost 121.91902422904968 s\n"
     ]
    }
   ],
   "source": [
    "def main(search_term):\n",
    "    # startup the webdriver\n",
    "    driver = webdriver.Chrome(ChromeDriverManager().install())\n",
    "\n",
    "    records = []\n",
    "    url = get_url(search_term)\n",
    "    \n",
    "    # Since Amazon only provides 7 pages for general search result\n",
    "    for page in range(1,8):\n",
    "        driver.get(url.format(page, page))\n",
    "        time.sleep(5)\n",
    "\n",
    "        soup = BeautifulSoup(driver.page_source, 'html.parser')\n",
    "        saveString(soup, page)\n",
    "\n",
    "        results = soup.find_all('div', {'data-component-type':'s-search-result'})\n",
    "\n",
    "        for item in results:\n",
    "            record = extract_record(item)\n",
    "            if record:\n",
    "                records.append(record)\n",
    "\n",
    "    driver.close()\n",
    "\n",
    "    with open('webscraping_result_test.csv', 'w', newline = '', encoding = 'utf-8' ) as f:\n",
    "        writer = csv.writer(f)\n",
    "        writer.writerow(['Description','Price','Price_orig','Coupon','Delivery','Rating','ReviewCount','Prime','Url'])\n",
    "        writer.writerows(records)\n",
    "    \n",
    "    combined_df = pd.DataFrame(records)\n",
    "    combined_df.columns = ['Description','Price','Price_orig','Coupon','Delivery','Rating','ReviewCount','Prime','Url']\n",
    "    amz_collection = db.get_collection(\"amazon_office_chairs\")\n",
    "    amz_collection.insert_many(combined_df.to_dict('records'))\n",
    "\n",
    "import time\n",
    "time_start = time.time()\n",
    "main('office chair')\n",
    "time_end = time.time()\n",
    "print('time_cost', time_end-time_start, 's')"
   ]
  },
  {
   "cell_type": "code",
   "execution_count": null,
   "metadata": {
    "id": "fKS4hgNoFYym"
   },
   "outputs": [],
   "source": []
  }
 ],
 "metadata": {
  "colab": {
   "collapsed_sections": [],
   "name": "422-Final Project.ipynb",
   "provenance": []
  },
  "kernelspec": {
   "display_name": "Python 3",
   "language": "python",
   "name": "python3"
  },
  "language_info": {
   "codemirror_mode": {
    "name": "ipython",
    "version": 3
   },
   "file_extension": ".py",
   "mimetype": "text/x-python",
   "name": "python",
   "nbconvert_exporter": "python",
   "pygments_lexer": "ipython3",
   "version": "3.7.6"
  }
 },
 "nbformat": 4,
 "nbformat_minor": 4
}
